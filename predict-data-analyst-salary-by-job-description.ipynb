{
 "cells": [
  {
   "cell_type": "code",
   "execution_count": 1,
   "metadata": {
    "_cell_guid": "b1076dfc-b9ad-4769-8c92-a6c4dae69d19",
    "_uuid": "8f2839f25d086af736a60e9eeb907d3b93b6e0e5"
   },
   "outputs": [
    {
     "name": "stdout",
     "output_type": "stream",
     "text": [
      "Collecting contractions\r\n",
      "  Downloading contractions-0.0.25-py2.py3-none-any.whl (3.2 kB)\r\n",
      "Collecting textsearch\r\n",
      "  Downloading textsearch-0.0.17-py2.py3-none-any.whl (7.5 kB)\r\n",
      "Requirement already satisfied: Unidecode in /opt/conda/lib/python3.7/site-packages (from textsearch->contractions) (1.1.1)\r\n",
      "Requirement already satisfied: pyahocorasick in /opt/conda/lib/python3.7/site-packages (from textsearch->contractions) (1.4.0)\r\n",
      "Installing collected packages: textsearch, contractions\r\n",
      "Successfully installed contractions-0.0.25 textsearch-0.0.17\r\n",
      "\u001b[33mWARNING: You are using pip version 20.1.1; however, version 20.2 is available.\r\n",
      "You should consider upgrading via the '/opt/conda/bin/python3.7 -m pip install --upgrade pip' command.\u001b[0m\r\n"
     ]
    }
   ],
   "source": [
    "!pip install contractions\n",
    "\n",
    "import pandas as pd\n",
    "import contractions\n",
    "import re\n",
    "from nltk.corpus import stopwords\n",
    "from keras.preprocessing.text import Tokenizer\n",
    "from keras.preprocessing.sequence import pad_sequences\n",
    "from sklearn.model_selection import train_test_split\n",
    "import numpy as np\n",
    "from keras.models import Sequential\n",
    "from keras.layers import Embedding\n",
    "from keras.layers import LSTM, Dense, Dropout, GlobalMaxPool1D\n",
    "from keras.callbacks import EarlyStopping\n",
    "import matplotlib.pyplot as plt\n",
    "from sklearn.metrics import mean_squared_error\n",
    "from sklearn.metrics import r2_score"
   ]
  },
  {
   "cell_type": "code",
   "execution_count": 2,
   "metadata": {
    "_cell_guid": "79c7e3d0-c299-4dcb-8224-4455121ee9b0",
    "_uuid": "d629ff2d2480ee46fbb7e2d37f6b5fab8052498a",
    "collapsed": true
   },
   "outputs": [],
   "source": [
    "data = pd.read_csv('../input/data-analyst-jobs/DataAnalyst.csv')\n",
    "data = data[data['Salary Estimate'].str.contains('Glassdoor')]\n",
    "\n",
    "jb = data['Job Description'].to_list()\n",
    "\n",
    "#JOB DESCRIPTION PREPROCESS\n",
    "jb = [x.replace('\\n', ' ') for x in jb] #remove \\n\n",
    "jb = [contractions.fix(x) for x in jb] #fix contractions\n",
    "\n",
    "def remove_punc(input_string): \n",
    "    '''\n",
    "    we create our own function to keep certain signs\n",
    "    '''\n",
    "    punctuations = '''!()-[]{};:'\"\\,<>./?@#$%^&*_~'''\n",
    "    for x in input_string.lower(): \n",
    "        if x in punctuations: \n",
    "            input_string = input_string.replace(x, ' ')             \n",
    "    return input_string\n",
    "\n",
    "jb = [remove_punc(x) for x in jb] #remove punctuations\n",
    "jb = [re.sub(' +', ' ', x) for x in jb] #remove extra spaces in strings\n",
    "\n",
    "stpw = stopwords.words('english')\n",
    "\n",
    "def remove_stpw(input_string):\n",
    "    output_string = []\n",
    "    for i in input_string.split():\n",
    "        if i.strip().lower() not in stpw:\n",
    "            output_string.append(i.strip())\n",
    "    return ' '.join(output_string)\n",
    "\n",
    "jb = [remove_stpw(x) for x in jb] #remove stopwords\n",
    "jb = [x.lower() for x in jb]\n",
    "\n",
    "salary = data['Salary Estimate'].to_list()\n",
    "\n",
    "salary_avg = [] #use average salary estimate as dependent variable\n",
    "for i in salary:\n",
    "    lower = i[i.find('$')+1:i.find('K')]\n",
    "    upper = i[i.rfind('$')+1:i.rfind('K')]\n",
    "    avg = (int(lower) + int(upper)) / 2\n",
    "    salary_avg.append(avg)"
   ]
  },
  {
   "cell_type": "code",
   "execution_count": 3,
   "metadata": {},
   "outputs": [],
   "source": [
    "#VECTORIZE\n",
    "embed_size = 100\n",
    "maxlen = 1000\n",
    "\n",
    "tokenizer = Tokenizer()\n",
    "tokenizer.fit_on_texts(jb)\n",
    "\n",
    "X = tokenizer.texts_to_sequences(jb)\n",
    "X = pad_sequences(X, maxlen = maxlen)\n",
    "\n",
    "y = salary_avg.copy()\n",
    "y = np.array(y)\n",
    "\n",
    "X_train, X_test, y_train, y_test = train_test_split(X, y, test_size = 0.2, random_state = 42)\n",
    "\n",
    "#GLOVE EMBEDDING\n",
    "embedding_path = '../input/glove-global-vectors-for-word-representation/glove.6B.100d.txt'\n",
    "\n",
    "embeddings_index = {}\n",
    "f = open(embedding_path)\n",
    "for line in f:\n",
    "    values = line.split()\n",
    "    word = values[0]\n",
    "    coefs = np.asarray(values[1:], dtype='float32')\n",
    "    embeddings_index[word] = coefs\n",
    "f.close()\n",
    "\n",
    "word_index = tokenizer.word_index\n",
    "\n",
    "embedding_matrix = np.zeros((len(word_index) + 1, embed_size))\n",
    "for word, i in word_index.items():\n",
    "    embedding_vector = embeddings_index.get(word)\n",
    "    if embedding_vector is not None:\n",
    "        embedding_matrix[i] = embedding_vector"
   ]
  },
  {
   "cell_type": "code",
   "execution_count": 4,
   "metadata": {},
   "outputs": [
    {
     "name": "stdout",
     "output_type": "stream",
     "text": [
      "Epoch 1/1000\n",
      "45/45 [==============================] - 71s 2s/step - loss: 4840.0068 - mse: 4840.0068 - val_loss: 4653.2803 - val_mse: 4653.2803\n",
      "Epoch 2/1000\n",
      "45/45 [==============================] - 71s 2s/step - loss: 4203.6821 - mse: 4203.6821 - val_loss: 4167.4312 - val_mse: 4167.4312\n",
      "Epoch 3/1000\n",
      "45/45 [==============================] - 71s 2s/step - loss: 3618.9094 - mse: 3618.9094 - val_loss: 3350.8313 - val_mse: 3350.8313\n",
      "Epoch 4/1000\n",
      "45/45 [==============================] - 71s 2s/step - loss: 2697.1265 - mse: 2697.1265 - val_loss: 2438.0767 - val_mse: 2438.0767\n",
      "Epoch 5/1000\n",
      "45/45 [==============================] - 72s 2s/step - loss: 2041.1173 - mse: 2041.1173 - val_loss: 1943.7292 - val_mse: 1943.7292\n",
      "Epoch 6/1000\n",
      "45/45 [==============================] - 71s 2s/step - loss: 1654.4843 - mse: 1654.4843 - val_loss: 1607.8386 - val_mse: 1607.8386\n",
      "Epoch 7/1000\n",
      "45/45 [==============================] - 71s 2s/step - loss: 1378.4154 - mse: 1378.4154 - val_loss: 1355.5043 - val_mse: 1355.5043\n",
      "Epoch 8/1000\n",
      "45/45 [==============================] - 71s 2s/step - loss: 1169.6991 - mse: 1169.6991 - val_loss: 1161.0151 - val_mse: 1161.0151\n",
      "Epoch 9/1000\n",
      "45/45 [==============================] - 71s 2s/step - loss: 1009.8063 - mse: 1009.8063 - val_loss: 1008.4902 - val_mse: 1008.4902\n",
      "Epoch 10/1000\n",
      "45/45 [==============================] - 70s 2s/step - loss: 886.8057 - mse: 886.8057 - val_loss: 889.7878 - val_mse: 889.7878\n",
      "Epoch 11/1000\n",
      "45/45 [==============================] - 70s 2s/step - loss: 792.5504 - mse: 792.5504 - val_loss: 801.8777 - val_mse: 801.8777\n",
      "Epoch 12/1000\n",
      "45/45 [==============================] - 70s 2s/step - loss: 723.9835 - mse: 723.9835 - val_loss: 731.9218 - val_mse: 731.9218\n",
      "Epoch 13/1000\n",
      "45/45 [==============================] - 71s 2s/step - loss: 671.7535 - mse: 671.7535 - val_loss: 682.1578 - val_mse: 682.1578\n",
      "Epoch 14/1000\n",
      "45/45 [==============================] - 71s 2s/step - loss: 633.3307 - mse: 633.3307 - val_loss: 641.8080 - val_mse: 641.8080\n",
      "Epoch 15/1000\n",
      "45/45 [==============================] - 70s 2s/step - loss: 603.5552 - mse: 603.5552 - val_loss: 618.2974 - val_mse: 618.2974\n",
      "Epoch 16/1000\n",
      "45/45 [==============================] - 71s 2s/step - loss: 576.9131 - mse: 576.9131 - val_loss: 606.2858 - val_mse: 606.2858\n",
      "Epoch 17/1000\n",
      "45/45 [==============================] - 71s 2s/step - loss: 551.8479 - mse: 551.8479 - val_loss: 599.6013 - val_mse: 599.6013\n",
      "Epoch 18/1000\n",
      "45/45 [==============================] - 73s 2s/step - loss: 528.1653 - mse: 528.1653 - val_loss: 587.0038 - val_mse: 587.0038\n",
      "Epoch 19/1000\n",
      "45/45 [==============================] - 70s 2s/step - loss: 508.5332 - mse: 508.5332 - val_loss: 580.0829 - val_mse: 580.0829\n",
      "Epoch 20/1000\n",
      "45/45 [==============================] - 70s 2s/step - loss: 491.2870 - mse: 491.2870 - val_loss: 566.9157 - val_mse: 566.9157\n",
      "Epoch 21/1000\n",
      "45/45 [==============================] - 70s 2s/step - loss: 473.7297 - mse: 473.7297 - val_loss: 578.6680 - val_mse: 578.6680\n",
      "Epoch 00021: early stopping\n"
     ]
    }
   ],
   "source": [
    "#BUILD AND TRAIN MODEL\n",
    "model = Sequential()\n",
    "model.add(Embedding(len(word_index) + 1, embed_size, weights=[embedding_matrix]))\n",
    "model.add(LSTM(128, return_sequences=True, dropout=0.1, recurrent_dropout=0.1))\n",
    "model.add(GlobalMaxPool1D())\n",
    "model.add(Dense(1, activation = 'linear'))\n",
    "model.compile(loss = 'mean_squared_error', optimizer = 'adam', \n",
    "              metrics = ['mse'])\n",
    "\n",
    "es = EarlyStopping(monitor='val_mse', mode='min', verbose=1)\n",
    "history = model.fit(X_train, y_train, validation_split=0.2, batch_size=32, epochs=1000, callbacks=[es])"
   ]
  },
  {
   "cell_type": "code",
   "execution_count": 5,
   "metadata": {},
   "outputs": [
    {
     "data": {
      "image/png": "[encoded data removed]",
      "text/plain": [
       "<Figure size 432x288 with 1 Axes>"
      ]
     },
     "metadata": {
      "needs_background": "light"
     },
     "output_type": "display_data"
    }
   ],
   "source": [
    "#PLOT TRAINING HISTORY\n",
    "plt.plot(history.history['mse'])\n",
    "plt.plot(history.history['val_mse'])\n",
    "plt.title('Mean Squared Error')\n",
    "plt.ylabel('mse')\n",
    "plt.xlabel('epoch')\n",
    "plt.legend(['train', 'test'], loc='upper left')\n",
    "plt.show()"
   ]
  },
  {
   "cell_type": "code",
   "execution_count": 6,
   "metadata": {},
   "outputs": [
    {
     "name": "stdout",
     "output_type": "stream",
     "text": [
      "15/15 [==============================] - 3s 176ms/step\n"
     ]
    },
    {
     "data": {
      "text/plain": [
       "593.3597389458822"
      ]
     },
     "execution_count": 6,
     "metadata": {},
     "output_type": "execute_result"
    }
   ],
   "source": [
    "#TESTING\n",
    "y_predict = model.predict(X_test, verbose=1)\n",
    "mean_squared_error(y_test, y_predict)"
   ]
  }
 ],
 "metadata": {
  "kernelspec": {
   "display_name": "Python 3",
   "language": "python",
   "name": "python3"
  },
  "language_info": {
   "codemirror_mode": {
    "name": "ipython",
    "version": 3
   },
   "file_extension": ".py",
   "mimetype": "text/x-python",
   "name": "python",
   "nbconvert_exporter": "python",
   "pygments_lexer": "ipython3",
   "version": "3.7.6"
  }
 },
 "nbformat": 4,
 "nbformat_minor": 4
}
